{
 "cells": [
  {
   "cell_type": "code",
   "execution_count": 1,
   "id": "5311dc32-91ae-4ed8-84c5-b0b34344d37d",
   "metadata": {},
   "outputs": [],
   "source": [
    "#used package\n",
    "import numpy as np\n",
    "import cv2"
   ]
  },
  {
   "cell_type": "code",
   "execution_count": 2,
   "id": "90cf7859-ffa6-459c-a763-6367e19d9c09",
   "metadata": {},
   "outputs": [],
   "source": [
    "drawing = False#not to show that i move th e cursor the program draws something\n",
    "mode = 'Circle'#random\n",
    "start_x , start_y = -1 , -1#initial points\n",
    "color = (255,0,0)#BGR\n",
    "thickness = 2"
   ]
  },
  {
   "cell_type": "code",
   "execution_count": 3,
   "id": "e27e6e4a-0a6c-42d3-b74b-a1d696bb16d2",
   "metadata": {},
   "outputs": [],
   "source": [
    "def draw (event, x, y, flags, param):\n",
    "    global drawing, start_x, start_y, img, mode, color, thickness\n",
    "    if event == cv2.EVENT_LBUTTONDOWN :\n",
    "        drawing = True\n",
    "        start_x, start_y = x, y\n",
    "    elif event == cv2.EVENT_MOUSEMOVE:\n",
    "        if drawing:\n",
    "            if mode == 'Free Hand':\n",
    "                cv2.line(img,(start_x, start_y), (x, y), color, thickness)\n",
    "                start_x, start_y = x, y\n",
    "    elif event == cv2.EVENT_LBUTTONUP:\n",
    "        drawing = False\n",
    "        if mode == \"Circle\":\n",
    "            radius = int ( ( (x-start_x)**2 + (y-start_y)**2  )**0.5 )\n",
    "            cv2.circle(img, (start_x, start_y), radius, color, thickness )\n",
    "        elif mode == \"Rectangle\":\n",
    "            cv2.rectangle(img, (start_x, start_y), (x,y), color, thickness )\n",
    "        elif mode == \"Line\":\n",
    "            cv2.line(img, (start_x, start_y), (x,y), color, thickness )\n",
    "                "
   ]
  },
  {
   "cell_type": "code",
   "execution_count": 5,
   "id": "11dbd548-ba58-4641-9ba0-4154a67e5e55",
   "metadata": {},
   "outputs": [
    {
     "name": "stdout",
     "output_type": "stream",
     "text": [
      "Manual of the app\n",
      "left click to start drawing\n",
      "2. press m to change the mode : Cicle, Rectangle, Line, Free Hand\n",
      "3. press c to change the color : blue, green, red\n",
      "4. press + or - for increasing or decreasing thickness\n",
      "5. press s to save\n",
      "press q to quit\n",
      "Mode changed to Rectangle\n",
      "Color changed to Green\n",
      "Color changed to Red\n",
      "Mode changed to Line\n",
      "Mode changed to Free Hand\n",
      "Color changed to Blue\n",
      "Color changed to Green\n",
      "Color changed to Red\n",
      "Color changed to Blue\n",
      "Color changed to Green\n",
      "Color changed to Red\n",
      "Mode changed to Circle\n",
      "Mode changed to Rectangle\n",
      "Color changed to Blue\n",
      "Mode changed to Line\n",
      "Color changed to Green\n",
      "Mode changed to Free Hand\n",
      "Color changed to Red\n",
      "image is saved as 'myimage.png'\n"
     ]
    }
   ],
   "source": [
    "print(\"Manual of the app\")\n",
    "print(\"left click to start drawing\")\n",
    "print(\"2. press m to change the mode : Cicle, Rectangle, Line, Free Hand\")\n",
    "print(\"3. press c to change the color : blue, green, red\")\n",
    "print(\"4. press + or - for increasing or decreasing thickness\")\n",
    "print(\"5. press s to save\")\n",
    "print(\"press q to quit\")\n",
    "\n",
    "img = np.ones((600, 800, 3)) *255\n",
    "cv2.namedWindow(\"Drawing App\")\n",
    "cv2.setMouseCallback(\"Drawing App\", draw)\n",
    "\n",
    "\n",
    "while True:\n",
    "    cv2.imshow( \"Drawing App\",img )\n",
    "    key = cv2.waitKey(1) & 0xFF\n",
    "    if key == ord(\"q\"):\n",
    "        break\n",
    "    elif key == ord(\"m\"):\n",
    "        modes = ['Circle', 'Rectangle', 'Line', 'Free Hand']\n",
    "        mode = modes[(modes.index(mode)+1)%len(modes)]\n",
    "        print(f\"Mode changed to {mode}\")\n",
    "    elif key == ord(\"c\"):\n",
    "        colors=[(255,0,0), (0,255,0), (0,0,255)]\n",
    "        color = colors[(colors.index(color)+1)%len(colors)]\n",
    "        print(f\"Color changed to {'Blue' if color == (255,0,0) else 'Green' if color == (0,255,0) else 'Red'}\")\n",
    "    elif key == ord(\"+\"):\n",
    "        thickness += 1\n",
    "        print(\"thickness is increased\")\n",
    "    elif key == ord('-'):\n",
    "        if thickness > 1 :\n",
    "            thickness -= 1\n",
    "            print(\"thickness is decreased \")\n",
    "    elif key == ord(\"s\"):\n",
    "        cv2.imwrite('myimage.png',img)\n",
    "        print(\"image is saved as 'myimage.png'\")\n",
    "cv2.destroyAllWindows()\n",
    "        "
   ]
  },
  {
   "cell_type": "markdown",
   "id": "3a16a245-4b27-4042-9a4e-eb39171dda40",
   "metadata": {},
   "source": [
    "\"\"\"\"for reference\"\"\"\n",
    "#https://docs.google.com/document/d/1FArWXAyubBjZYFvFYeyP2d3eCDZOOBa126nMYq3XEAE/edit?tab=t.0"
   ]
  },
  {
   "cell_type": "code",
   "execution_count": null,
   "id": "4d826dfd-be22-45ab-9ac1-588478ab2234",
   "metadata": {},
   "outputs": [],
   "source": []
  }
 ],
 "metadata": {
  "kernelspec": {
   "display_name": "Python 3 (ipykernel)",
   "language": "python",
   "name": "python3"
  },
  "language_info": {
   "codemirror_mode": {
    "name": "ipython",
    "version": 3
   },
   "file_extension": ".py",
   "mimetype": "text/x-python",
   "name": "python",
   "nbconvert_exporter": "python",
   "pygments_lexer": "ipython3",
   "version": "3.11.9"
  }
 },
 "nbformat": 4,
 "nbformat_minor": 5
}
